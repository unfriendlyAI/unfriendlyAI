{
  "nbformat": 4,
  "nbformat_minor": 0,
  "metadata": {
    "colab": {
      "name": "Решение XOR в два нейрона с помощью Trax и Tensorflow",
      "provenance": [],
      "collapsed_sections": []
    },
    "kernelspec": {
      "name": "python3",
      "display_name": "Python 3"
    }
  },
  "cells": [
    {
      "cell_type": "markdown",
      "metadata": {
        "id": "P609qHnehlDO",
        "colab_type": "text"
      },
      "source": [
        "## Разрешимость XOR с помощью двух нейронов вместо трех"
      ]
    },
    {
      "cell_type": "markdown",
      "metadata": {
        "id": "kfBo0E1n081Z",
        "colab_type": "text"
      },
      "source": [
        "Обычно при обьяснении проблемы XOR указывают, что один нейрон с такой задачей не справляется (линейно неразделимы точки), и предлагается можель из трех нейронов (два в первом слое и один во втором), которая справляется с задачей. В трехнейронной модели имеется 9 весовых коэффициентов (включая bias). Однако я покажу как справится с XOR всего в два нейрона с 5-ю весовыми коэффициентами. Идея заключается в том, что на вход выходного нейрона подаем выход первого вместе с \"копией\" входного вектора: "
      ]
    },
    {
      "cell_type": "markdown",
      "metadata": {
        "id": "DyBGdeTpxzXs",
        "colab_type": "text"
      },
      "source": ["![Google's logo](https://drive.google.com/uc?export=view&id=105ONPNfR2ReDuouJ4n4Bzvuc4Pgqu_SB)"]},
    {
      "cell_type": "markdown",
      "metadata": {
        "id": "hFj3w4mUhlS5",
        "colab_type": "text"
      },
      "source": [
        "Сначала импортируем библиотеки и подготовим данные. Используем библиотеку TRAX."
      ]
    },
    {
      "cell_type": "code",
      "metadata": {
        "id": "_F45hb4_17W1",
        "colab_type": "code",
        "colab": {}
      },
      "source": [
        "# установка trax (пока что в Colab он не установлен по умолчанию)\n",
        "!pip install trax"
      ],
      "execution_count": null,
      "outputs": []
    },
    {
      "cell_type": "code",
      "metadata": {
        "id": "Bafd3GHMhZ9q",
        "colab_type": "code",
        "colab": {
          "base_uri": "https://localhost:8080/",
          "height": 68
        },
        "outputId": "5f35b032-d8d2-4b9d-dc38-dcc2792e51e3"
      },
      "source": [
        "import trax\n",
        "from trax import layers as tl\n",
        "from trax.supervised import training\n",
        "from trax.fastmath import numpy as np\n",
        "import os\n",
        "\n",
        "# все 4 возможных набора входных данных\n",
        "x=np.array([[0,0],\n",
        "            [0,1],\n",
        "            [1,0],\n",
        "            [1,1]])\n",
        "\n",
        "# все 16 вариантов таблиц истинности логической функции двух переменных\n",
        "y=np.array([[0,0,0,0,0,0,0,0,1,1,1,1,1,1,1,1],\n",
        "            [0,0,0,0,1,1,1,1,0,0,0,0,1,1,1,1],\n",
        "            [0,0,1,1,0,0,1,1,0,0,1,1,0,0,1,1],\n",
        "            [0,1,0,1,0,1,0,1,0,1,0,1,0,1,0,1]])\n",
        "\n",
        "# для модели trax нужен генератор данных \n",
        "def data_generator(x,y):\n",
        "  while True:\n",
        "    yield x,y,np.ones((y.shape))"
      ],
      "execution_count": null,
      "outputs": [
        {
          "output_type": "stream",
          "text": [
            "INFO:tensorflow:tokens_length=568 inputs_length=512 targets_length=114 noise_density=0.15 mean_noise_span_length=3.0 \n"
          ],
          "name": "stdout"
        },
        {
          "output_type": "stream",
          "text": [
            "/usr/local/lib/python3.6/dist-packages/jax/lib/xla_bridge.py:130: UserWarning: No GPU/TPU found, falling back to CPU.\n",
            "  warnings.warn('No GPU/TPU found, falling back to CPU.')\n"
          ],
          "name": "stderr"
        }
      ]
    },
    {
      "cell_type": "markdown",
      "metadata": {
        "id": "L2Wcu_SEhtP7",
        "colab_type": "text"
      },
      "source": [
        "Функция, которая получает модель и обучает ее для всех вариантов таблицы истинности логической функции двух переменных:\n"
      ]
    },
    {
      "cell_type": "code",
      "metadata": {
        "id": "hxCWOnizPJDA",
        "colab_type": "code",
        "colab": {}
      },
      "source": [
        "\n",
        "def trainModel(model,x,y,output_dir='model/'):\n",
        "  \n",
        "  res=[]\n",
        "  for i in range(y.shape[1]):                               # перебираем таблицу истинности (обучаем в цикле модель 16 раз) \n",
        "    if os.path.exists(\"/content/model/model.pkl.gz\"):\n",
        "        os.remove(\"/content/model/model.pkl.gz\")            # поскольку модель обучаем в цикле 16 раз, удаляем данные предыдущего обучения \n",
        "    model.init_weights_and_state(x)                         # и инициализируем весовые коэффициенты \n",
        "\n",
        "\n",
        "    train_task = training.TrainTask( labeled_data=data_generator(x,y[:,[i]]),            # входные данные - х и i-я таблица истинности \n",
        "          loss_layer=tl.metrics.L2Loss(),         \n",
        "          optimizer=trax.optimizers.Adam(learning_rate=0.085,weight_decay_rate=0.00015),\n",
        "      )  \n",
        "\n",
        "    training_loop = training.Loop(model,train_task,output_dir=output_dir)                # готовим обучающий цикл (модель + данные)\n",
        "\n",
        "    training_loop.run(4000)                                                              # обычно и 400 шагов достаточно, но для самых сложных задач обеспечим 4000 шагов (эпох)\n",
        "\n",
        "    preds=(model(x)>0.5)+0                     # вычисляем результат для входных данных\n",
        "    acc=float(np.mean(preds==y[:,[i]]))        # и сравниваем с i-й таблицей истинности\n",
        "    res.append(acc)\n",
        "\n",
        "  print(\"Accuracy:\")\n",
        "  print(res)\n",
        "  res=np.array(res)<0.9\n",
        "  print(\"Untrained functions:\" )\n",
        "  print(y[:,res])\n",
        "  return res \n"
      ],
      "execution_count": null,
      "outputs": []
    },
    {
      "cell_type": "markdown",
      "metadata": {
        "id": "yFIRH-TPzAvT",
        "colab_type": "text"
      },
      "source": [
        "## Один нейрон (регрессия)"
      ]
    },
    {
      "cell_type": "markdown",
      "metadata": {
        "id": "EnHIpexFh_XP",
        "colab_type": "text"
      },
      "source": [
        "Попробуем работу функции обучения на одном нейроне (регрессия)"
      ]
    },
    {
      "cell_type": "code",
      "metadata": {
        "id": "S0dQmkAMW40Y",
        "colab_type": "code",
        "colab": {
          "base_uri": "https://localhost:8080/",
          "height": 136
        },
        "outputId": "5d5572a7-c139-4284-91cd-20f336d5bc63"
      },
      "source": [
        "model=tl.Serial(tl.Dense(1),tl.Sigmoid())\n",
        "res=trainModel(model,x,y)\n"
      ],
      "execution_count": null,
      "outputs": [
        {
          "output_type": "stream",
          "text": [
            "Accuracy:\n",
            "[1.0, 1.0, 1.0, 1.0, 1.0, 1.0, 0.5, 1.0, 1.0, 0.5, 1.0, 1.0, 1.0, 1.0, 1.0, 1.0]\n",
            "Untrained functions:\n",
            "[[0 1]\n",
            " [1 0]\n",
            " [1 0]\n",
            " [0 1]]\n"
          ],
          "name": "stdout"
        }
      ]
    },
    {
      "cell_type": "markdown",
      "metadata": {
        "id": "d9vFQhZMyG_z",
        "colab_type": "text"
      },
      "source": [
        "В полученном результате модель не смогла обучится двум таблицам истинности из 16, а именно \"исключающему или\" (XOR) [0 1 1 0] и эквивалентности [1 0 0 1]. Это соответствует ожиданиям - эти два набора точек линейно не разделимы. "
      ]
    },
    {
      "cell_type": "markdown",
      "metadata": {
        "id": "ux8iM08rzDa-",
        "colab_type": "text"
      },
      "source": [
        "### Три нейрона (2+1)"
      ]
    },
    {
      "cell_type": "markdown",
      "metadata": {
        "id": "TmNO5tdBzK15",
        "colab_type": "text"
      },
      "source": [
        "Теперь попробуем модель из трех нейронов, ожидая успешное обучение любой таблице истинности двух переменных"
      ]
    },
    {
      "cell_type": "code",
      "metadata": {
        "id": "igpgCukyiEiz",
        "colab_type": "code",
        "colab": {
          "base_uri": "https://localhost:8080/",
          "height": 85
        },
        "outputId": "2ed91bc4-af5c-4677-b53c-26669bcb4842"
      },
      "source": [
        "model=tl.Serial(tl.Dense(2),tl.Elu(),tl.Dense(1),tl.Sigmoid())\n",
        "res=trainModel(model,x,y)\n"
      ],
      "execution_count": null,
      "outputs": [
        {
          "output_type": "stream",
          "text": [
            "Accuracy:\n",
            "[1.0, 1.0, 1.0, 1.0, 1.0, 1.0, 1.0, 1.0, 1.0, 1.0, 1.0, 1.0, 1.0, 1.0, 1.0, 1.0]\n",
            "Untrained functions:\n",
            "[]\n"
          ],
          "name": "stdout"
        }
      ]
    },
    {
      "cell_type": "markdown",
      "metadata": {
        "id": "84sZzA7l0WMN",
        "colab_type": "text"
      },
      "source": [
        "Модель обучается любой функции трех переменных.\n",
        "Теперь эту же модель трех нейронов переделаем вручную из двухнейронного первого слоя Dense(2) в три отдельных нейрона, соединенных паралельно, результаты которых обьединяем в один тензор слоем Concatenate перед подачей на третий нейрон"
      ]
    },
    {
      "cell_type": "markdown",
      "metadata": {
        "id": "9FThO2q91r8W",
        "colab_type": "text"
      },
      "source": ["![Google's logo](https://drive.google.com/uc?export=view&id=1_jEVkXmMs1nvJC7qBp6M7ET63Tp1ewI-)"]},
    {
      "cell_type": "code",
      "metadata": {
        "id": "SCqIAbTjSt8x",
        "colab_type": "code",
        "colab": {
          "base_uri": "https://localhost:8080/",
          "height": 85
        },
        "outputId": "5e370968-0adc-4eba-bd22-fe9844a83b42"
      },
      "source": [
        "Neuron1=tl.Serial(tl.Dense(1),tl.Elu())\n",
        "Neuron3=tl.Serial(tl.Dense(1),tl.Elu())\n",
        "Neuron2=tl.Serial(tl.Dense(1),tl.Sigmoid())\n",
        "\n",
        "concat=trax.layers.combinators.Concatenate()\n",
        "\n",
        "model=tl.Serial(tl.Branch(Neuron1,Neuron3),concat,Neuron2)\n",
        "\n",
        "res=trainModel(model,x,y)"
      ],
      "execution_count": null,
      "outputs": [
        {
          "output_type": "stream",
          "text": [
            "Accuracy:\n",
            "[1.0, 1.0, 1.0, 1.0, 1.0, 1.0, 1.0, 1.0, 1.0, 1.0, 1.0, 1.0, 1.0, 1.0, 1.0, 1.0]\n",
            "Untrained functions:\n",
            "[]\n"
          ],
          "name": "stdout"
        }
      ]
    },
    {
      "cell_type": "markdown",
      "metadata": {
        "id": "vtFhIr8u2Lv3",
        "colab_type": "text"
      },
      "source": [
        "Модель работает как и предыдущая, и с помощью model.weights можно убедиться что число весовых коэффициентов тоже 9"
      ]
    },
    {
      "cell_type": "markdown",
      "metadata": {
        "id": "5WaxY6OU2iCt",
        "colab_type": "text"
      },
      "source": [
        "## Переход к двум нейронам\n",
        "\n",
        "В предыдущей модели один из нейронов первого слоя заменим на None - в этом случае входные сигналы непосредственно передаются на выход без изменений."
      ]
    },
    {
      "cell_type": "markdown",
      "metadata": {
        "id": "F3q2y8csyA9A",
        "colab_type": "text"
      },
      "source": ["![Google's logo](https://drive.google.com/uc?export=view&id=1Otc0Woqtpp4K7YBOJM0MGNJ318_VZPuP)"]},
    {
      "cell_type": "code",
      "metadata": {
        "id": "xUGSDpSJZWf-",
        "colab_type": "code",
        "colab": {
          "base_uri": "https://localhost:8080/",
          "height": 85
        },
        "outputId": "0339b623-b37e-4348-f32d-b9876a215581"
      },
      "source": [
        "Neuron1=tl.Serial(tl.Dense(1),tl.Elu())\n",
        "Neuron2=tl.Serial(tl.Dense(1),tl.Sigmoid())\n",
        "\n",
        "concat=trax.layers.combinators.Concatenate()\n",
        "\n",
        "model=tl.Serial(tl.Branch(Neuron1,None),concat,Neuron2)\n",
        "\n",
        "res=trainModel(model,x,y)"
      ],
      "execution_count": null,
      "outputs": [
        {
          "output_type": "stream",
          "text": [
            "Accuracy:\n",
            "[1.0, 1.0, 1.0, 1.0, 1.0, 1.0, 1.0, 1.0, 1.0, 1.0, 1.0, 1.0, 1.0, 1.0, 1.0, 1.0]\n",
            "Untrained functions:\n",
            "[]\n"
          ],
          "name": "stdout"
        }
      ]
    },
    {
      "cell_type": "markdown",
      "metadata": {
        "id": "6RDN68av3Hmk",
        "colab_type": "text"
      },
      "source": [
        "Работает! Только в нашем случае имеется 7 весовых коэффициентов (три у первого нейрона, и 4 у второго, так как он получает х1 х2 и выход первого нейрона + bias)"
      ]
    },
    {
      "cell_type": "markdown",
      "metadata": {
        "id": "7X07PMDm3lp5",
        "colab_type": "text"
      },
      "source": [
        "## Уменьшение числа весовых коэффициентов\n",
        "\n",
        "Вместо того, чтобы на вход второго нейрона подавать весь входной сигнал (х1 х2), можно подать его среднее значение (Mean), нейроном этот обьект назвать невозможно так как отсутствуют весовые коэффициенты и нелинейность. Вместо ELU используем новенькую нелинейность GELU (GAUSSIAN ERROR LINEAR UNIT). Так обучится более быстро при любых вариантах инициализации. Хотя работает как ELU так и sigmoid"
      ]
    },
    {
      "cell_type": "markdown",
      "metadata": {
        "id": "H0fdTS3u3jia",
        "colab_type": "text"
      },
      "source": ["![Google's logo](https://drive.google.com/uc?export=view&id=1OI6fa8OHyWc4lv7nKjFwTLJdsZSev-EN)"]},
    {
      "cell_type": "code",
      "metadata": {
        "id": "Cy3T7Nh5GAIP",
        "colab_type": "code",
        "colab": {
          "base_uri": "https://localhost:8080/",
          "height": 85
        },
        "outputId": "7320aee6-4a7f-4887-a0dd-ce3512b3dcde"
      },
      "source": [
        "Neuron1=tl.Serial(tl.Dense(1),tl.Gelu())\n",
        "Neuron2=tl.Serial(tl.Dense(1),tl.Sigmoid())\n",
        "\n",
        "concat=trax.layers.combinators.Concatenate()\n",
        "\n",
        "model=tl.Serial(tl.Branch(Neuron1,tl.Mean(axis=-1,keepdims=True)),concat,Neuron2)\n",
        "\n",
        "res=trainModel(model,x,y)"
      ],
      "execution_count": null,
      "outputs": [
        {
          "output_type": "stream",
          "text": [
            "Accuracy:\n",
            "[1.0, 1.0, 1.0, 1.0, 1.0, 1.0, 1.0, 1.0, 1.0, 1.0, 1.0, 1.0, 1.0, 1.0, 1.0, 1.0]\n",
            "Untrained functions:\n",
            "[]\n"
          ],
          "name": "stdout"
        }
      ]
    },
    {
      "cell_type": "code",
      "metadata": {
        "id": "5IC27D2EK5cb",
        "colab_type": "code",
        "colab": {
          "base_uri": "https://localhost:8080/",
          "height": 187
        },
        "outputId": "7829e7fe-3cdf-4606-cfd4-fc7b6e4768b8"
      },
      "source": [
        "model.weights # проверим число весовых коэффициентов"
      ],
      "execution_count": null,
      "outputs": [
        {
          "output_type": "execute_result",
          "data": {
            "text/plain": [
              "(((), (((DeviceArray([[0.53716326],\n",
              "                  [1.0229198 ]], dtype=float32),\n",
              "     DeviceArray([1.6887612], dtype=float32)),\n",
              "    ()),\n",
              "   ())),\n",
              " (),\n",
              " ((DeviceArray([[3.2805703 ],\n",
              "                [0.13650544]], dtype=float32),\n",
              "   DeviceArray([0.95819074], dtype=float32)),\n",
              "  ()))"
            ]
          },
          "metadata": {
            "tags": []
          },
          "execution_count": 11
        }
      ]
    },
    {
      "cell_type": "markdown",
      "metadata": {
        "id": "kICEWWmc5m8M",
        "colab_type": "text"
      },
      "source": [
        "Работает, и число весовых коэффициентов теперь 6 (по три у каждого нейрона)\n",
        "\n",
        "Теперь убираем bias у первого нейрона"
      ]
    },
    {
      "cell_type": "markdown",
      "metadata": {
        "id": "rvJhbgoA5PZB",
        "colab_type": "text"
      },
      "source": ["![Google's logo](https://drive.google.com/uc?export=view&id=1dHqqNPaJhZFouX_yG-9m40OSS29b9u-f)"]},
    {
      "cell_type": "code",
      "metadata": {
        "id": "8Etfo_rgMeui",
        "colab_type": "code",
        "colab": {
          "base_uri": "https://localhost:8080/",
          "height": 85
        },
        "outputId": "a2a8f10c-be07-4ce9-8dcc-4287ec0281f0"
      },
      "source": [
        "Neuron1=tl.Serial(tl.Dense(1,use_bias=False),tl.Gelu())\n",
        "Neuron2=tl.Serial(tl.Dense(1,use_bias=True),tl.Sigmoid())\n",
        "\n",
        "concat=trax.layers.combinators.Concatenate()\n",
        "\n",
        "model=tl.Serial(tl.Branch(Neuron1,tl.Mean(axis=-1,keepdims=True)),concat,Neuron2)\n",
        "\n",
        "res=trainModel(model,x,y)"
      ],
      "execution_count": null,
      "outputs": [
        {
          "output_type": "stream",
          "text": [
            "Accuracy:\n",
            "[1.0, 1.0, 1.0, 1.0, 1.0, 1.0, 1.0, 1.0, 1.0, 1.0, 1.0, 1.0, 1.0, 1.0, 1.0, 1.0]\n",
            "Untrained functions:\n",
            "[]\n"
          ],
          "name": "stdout"
        }
      ]
    },
    {
      "cell_type": "code",
      "metadata": {
        "id": "oMGVvH2U57GG",
        "colab_type": "code",
        "colab": {
          "base_uri": "https://localhost:8080/",
          "height": 136
        },
        "outputId": "1a223b00-f2b4-413d-d2f8-bcf6bd230171"
      },
      "source": [
        "model.weights # проверим число весовых коэффициентов"
      ],
      "execution_count": null,
      "outputs": [
        {
          "output_type": "execute_result",
          "data": {
            "text/plain": [
              "(((), ((DeviceArray([[-0.6851336 ],\n",
              "                 [-0.65302694]], dtype=float32), ()), ())),\n",
              " (),\n",
              " ((DeviceArray([[-1.9714437],\n",
              "                [ 1.9214795]], dtype=float32),\n",
              "   DeviceArray([5.013004], dtype=float32)),\n",
              "  ()))"
            ]
          },
          "metadata": {
            "tags": []
          },
          "execution_count": 14
        }
      ]
    },
    {
      "cell_type": "markdown",
      "metadata": {
        "id": "uwEnkEZzNIO7",
        "colab_type": "text"
      },
      "source": [
        "Опять же работает, и осталось 5 весовых коэффициентов\n",
        "\n",
        "\n",
        "## Двухнейронная модель с Tensorflow\n",
        "\n",
        "(вариант с 7-ми весовыми коэффициентами)"
      ]
    },
    {
      "cell_type": "code",
      "metadata": {
        "id": "OlQPDS4xOHsV",
        "colab_type": "code",
        "colab": {
          "base_uri": "https://localhost:8080/",
          "height": 513
        },
        "outputId": "faa6d92a-7375-4435-bcde-00b6bd01d50f"
      },
      "source": [
        "import tensorflow as tf\n",
        "import numpy \n",
        "\n",
        "x=numpy.array([[0,0],\n",
        "            [0,1],\n",
        "            [1,0],\n",
        "            [1,1]])\n",
        "\n",
        "y=numpy.array([[0,0,0,0,0,0,0,0,1,1,1,1,1,1,1,1],\n",
        "            [0,0,0,0,1,1,1,1,0,0,0,0,1,1,1,1],\n",
        "            [0,0,1,1,0,0,1,1,0,0,1,1,0,0,1,1],\n",
        "            [0,1,0,1,0,1,0,1,0,1,0,1,0,1,0,1]])\n",
        "\n",
        "\n",
        "res=[]\n",
        "for i in range(y.shape[1]):\n",
        "    model=None\n",
        "    inputs = tf.keras.Input(shape=(2,))\n",
        "    xx = tf.keras.layers.Dense(1, activation=\"sigmoid\")(inputs)\n",
        "    xx=  tf.keras.layers.concatenate([xx, inputs], axis=-1)\n",
        "    outputs  = tf.keras.layers.Dense(1, activation=\"sigmoid\")(xx)\n",
        "    model = tf.keras.Model(inputs=inputs, outputs=outputs, name=\"TwoNeurons\")    \n",
        "    model.compile(optimizer=tf.keras.optimizers.Adam(0.01), loss=\"mse\")\n",
        "    \n",
        "    model.fit(x,y[:,[i]], epochs=2000, verbose=0)\n",
        "    preds=(model.predict(x)>0.5)+0\n",
        "    acc=float(numpy.mean(preds==y[:,[i]]))\n",
        "    res.append(acc)\n",
        "\n",
        "print(\"Accuracy:\")\n",
        "print(res)\n",
        "res=numpy.array(res)<0.9\n",
        "print(\"Untrained functions:\" )\n",
        "print(y[:,res])\n",
        "\n"
      ],
      "execution_count": null,
      "outputs": [
        {
          "output_type": "stream",
          "text": [
            "Accuracy:\n",
            "[1.0, 1.0, 1.0, 1.0, 1.0, 1.0, 1.0, 1.0, 1.0, 1.0, 1.0, 1.0, 1.0, 1.0, 1.0, 1.0]\n",
            "Untrained functions:\n",
            "[]\n"
          ],
          "name": "stdout"
        }
      ]
    },
    {
      "cell_type": "markdown",
      "metadata": {
        "id": "CIbRdY-l_BmX",
        "colab_type": "text"
      },
      "source": [
        "Модель обучается любой из 16 таблиц истинности логической функции двух переменных"
      ]
    },
    {
      "cell_type": "code",
      "metadata": {
        "id": "kBidH1QXWp9D",
        "colab_type": "code",
        "colab": {
          "base_uri": "https://localhost:8080/",
          "height": 306
        },
        "outputId": "c1c897c2-4a33-4ad9-ab48-f2d8a8856d59"
      },
      "source": [
        "model.summary()"
      ],
      "execution_count": null,
      "outputs": [
        {
          "output_type": "stream",
          "text": [
            "Model: \"TwoNeurons\"\n",
            "__________________________________________________________________________________________________\n",
            "Layer (type)                    Output Shape         Param #     Connected to                     \n",
            "==================================================================================================\n",
            "input_16 (InputLayer)           [(None, 2)]          0                                            \n",
            "__________________________________________________________________________________________________\n",
            "dense_30 (Dense)                (None, 1)            3           input_16[0][0]                   \n",
            "__________________________________________________________________________________________________\n",
            "concatenate_15 (Concatenate)    (None, 3)            0           dense_30[0][0]                   \n",
            "                                                                 input_16[0][0]                   \n",
            "__________________________________________________________________________________________________\n",
            "dense_31 (Dense)                (None, 1)            4           concatenate_15[0][0]             \n",
            "==================================================================================================\n",
            "Total params: 7\n",
            "Trainable params: 7\n",
            "Non-trainable params: 0\n",
            "__________________________________________________________________________________________________\n"
          ],
          "name": "stdout"
        }
      ]
    },
    {
      "cell_type": "markdown",
      "metadata": {
        "id": "NPwqVPf2-0lX",
        "colab_type": "text"
      },
      "source": [
        "### Заключение\n",
        "\n",
        "Для решения XOR достаточно двух нейронов имеющих суммарно 5 весовых коэффициентов."
      ]
    },
    {
      "cell_type": "code",
      "metadata": {
        "id": "091SzpGI-2Do",
        "colab_type": "code",
        "colab": {}
      },
      "source": [
        ""
      ],
      "execution_count": null,
      "outputs": []
    }
  ]
}
